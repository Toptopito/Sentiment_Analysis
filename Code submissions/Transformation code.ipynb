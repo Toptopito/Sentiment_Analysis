{
 "cells": [
  {
   "cell_type": "code",
   "execution_count": 10,
   "metadata": {},
   "outputs": [],
   "source": [
    "import pandas as pd\n",
    "\n",
    "# Function to generate word phrase list from text\n",
    "def generate_word_phrase_list(text):\n",
    "    text_list = text.split()\n",
    "    end_pos = len(text_list)\n",
    "    word_phrase_list = []\n",
    "\n",
    "    for i in range(end_pos):\n",
    "        for j in range(i, end_pos):\n",
    "            words = text_list[i:j+1]\n",
    "            phrase = ' '.join(words)\n",
    "            word_phrase_list.append(phrase)\n",
    "\n",
    "    return word_phrase_list\n",
    "\n",
    "# Read the checkpoint file\n",
    "main_df = pd.read_csv('C:\\\\Users\\\\ishaq\\\\OneDrive\\\\Desktop\\\\NLP\\\\checkpoint_06_final_training_file.csv', low_memory=False)\n",
    "\n",
    "# Drop rows with missing values in the 'comment_processed' column\n",
    "main_df = main_df.dropna(subset=['comment_processed'])\n",
    "\n",
    "# Open a CSV file for writing\n",
    "with open('transformed_data.csv', 'w') as csvfile:\n",
    "    csvfile.write('Comment_processed,classification\\n')  # Write the header row\n",
    "\n",
    "    # Iterate through each row of the DataFrame\n",
    "    for index, row in main_df.iterrows():\n",
    "        comment = row['comment_processed']\n",
    "        classification = row['classification']\n",
    "\n",
    "        # Generate word phrases for the comment\n",
    "        phrases = generate_word_phrase_list(comment)\n",
    "\n",
    "        # Write each phrase along with its classification to the CSV file\n",
    "        for phrase in phrases:\n",
    "            csvfile.write(f'{phrase},{classification}\\n')\n",
    "\n"
   ]
  }
 ],
 "metadata": {
  "kernelspec": {
   "display_name": "Python 3",
   "language": "python",
   "name": "python3"
  },
  "language_info": {
   "codemirror_mode": {
    "name": "ipython",
    "version": 3
   },
   "file_extension": ".py",
   "mimetype": "text/x-python",
   "name": "python",
   "nbconvert_exporter": "python",
   "pygments_lexer": "ipython3",
   "version": "3.11.9"
  }
 },
 "nbformat": 4,
 "nbformat_minor": 2
}
