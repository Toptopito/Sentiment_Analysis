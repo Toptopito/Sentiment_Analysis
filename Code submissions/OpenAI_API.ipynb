{
 "cells": [
  {
   "cell_type": "code",
   "execution_count": 4,
   "id": "974f252a",
   "metadata": {},
   "outputs": [],
   "source": [
    "import openai\n",
    "import pandas as pd\n",
    "import requests"
   ]
  },
  {
   "cell_type": "code",
   "execution_count": 5,
   "id": "d505bed2",
   "metadata": {},
   "outputs": [
    {
     "name": "stdout",
     "output_type": "stream",
     "text": [
      "Complaint (80%)\n"
     ]
    }
   ],
   "source": [
    "\n",
    "# Set up your OpenAI API key\n",
    "openai.api_key = 'API_Key'\n",
    "\n",
    "# Define the patient feedback\n",
    "text = \"Feedback\"\n",
    "\n",
    "# Define the prompt\n",
    "prompt = f\"\"\"I have a patient feedback from a clinic visit. Your task is to classify the feedback as either a Complaint or a Praise and provide the probability that it is a complaint.\n",
    "For example:\n",
    "Feedback: \"I am not happy\"\n",
    "Response: Complaint (70%)\n",
    "Limit your response to 50 characters\n",
    "The patient feedback is: {text}\"\"\"\n",
    "\n",
    "# Generate response\n",
    "response = openai.ChatCompletion.create(model=\"gpt-4\", messages=[{\"role\": \"user\", \"content\": prompt}])\n",
    "\n",
    "# Print response\n",
    "print(response.choices[0].message['content'].strip())"
   ]
  },
  {
   "cell_type": "code",
   "execution_count": null,
   "id": "bd347efb",
   "metadata": {},
   "outputs": [],
   "source": []
  }
 ],
 "metadata": {
  "kernelspec": {
   "display_name": "Python 3 (ipykernel)",
   "language": "python",
   "name": "python3"
  },
  "language_info": {
   "codemirror_mode": {
    "name": "ipython",
    "version": 3
   },
   "file_extension": ".py",
   "mimetype": "text/x-python",
   "name": "python",
   "nbconvert_exporter": "python",
   "pygments_lexer": "ipython3",
   "version": "3.11.5"
  }
 },
 "nbformat": 4,
 "nbformat_minor": 5
}
